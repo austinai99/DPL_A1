{
 "cells": [
  {
   "cell_type": "markdown",
   "id": "e2644881",
   "metadata": {},
   "source": [
    "### Assignment 1 "
   ]
  },
  {
   "cell_type": "code",
   "execution_count": 1,
   "id": "807791da",
   "metadata": {},
   "outputs": [],
   "source": [
    "import numpy as np"
   ]
  },
  {
   "cell_type": "code",
   "execution_count": 2,
   "id": "3baebd06",
   "metadata": {},
   "outputs": [],
   "source": [
    "with open('diabetes_scale.txt', 'r') as file:\n",
    "    lines = file.readlines()\n",
    "\n",
    "# Parse the data into features and labels\n",
    "X = []\n",
    "y = []\n",
    "max_features = 0  \n",
    "for line in lines:\n",
    "    parts = line.strip().split(' ')\n",
    "    label = float(parts[0])\n",
    "    features = [float(part.split(':')[1]) for part in parts[1:]]\n",
    "    X.append(features)\n",
    "    y.append(label)\n",
    "    max_features = max(max_features, len(features))\n",
    "\n",
    "for i in range(len(X)):\n",
    "    while len(X[i]) < max_features:\n",
    "        X[i].append(0.0)\n",
    "\n",
    "X = np.array(X)\n",
    "y = np.array(y)\n"
   ]
  },
  {
   "cell_type": "code",
   "execution_count": 3,
   "id": "546c82f8",
   "metadata": {},
   "outputs": [],
   "source": [
    "from sklearn.model_selection import train_test_split\n",
    "\n",
    "X_train, X_test, y_train, y_test = train_test_split(X, y, test_size=0.3, random_state=42)\n",
    "\n",
    "import torch\n",
    "from torch.utils.data import Dataset, DataLoader\n",
    "\n",
    "# Create a custom dataset\n",
    "class DiabetesDataset(Dataset):\n",
    "    def __init__(self, features, labels):\n",
    "        self.features = torch.FloatTensor(features)\n",
    "        self.labels = torch.FloatTensor(labels)\n",
    "\n",
    "    def __len__(self):\n",
    "        return len(self.features)\n",
    "\n",
    "    def __getitem__(self, idx):\n",
    "        return self.features[idx], self.labels[idx]\n",
    "\n",
    "# Create datasets and data loaders\n",
    "train_dataset = DiabetesDataset(X_train, y_train)\n",
    "test_dataset = DiabetesDataset(X_test, y_test)\n",
    "\n",
    "batch_size = 64  \n",
    "trainloader = DataLoader(train_dataset, batch_size=batch_size, shuffle=True)\n",
    "testloader = DataLoader(test_dataset, batch_size=batch_size, shuffle=False)"
   ]
  },
  {
   "cell_type": "code",
   "execution_count": 4,
   "id": "53b9e6c3",
   "metadata": {},
   "outputs": [],
   "source": [
    "import torch"
   ]
  },
  {
   "cell_type": "code",
   "execution_count": 5,
   "id": "2346f592",
   "metadata": {},
   "outputs": [],
   "source": [
    "import torch.nn as nn\n",
    "import torch.nn.functional as F\n",
    "\n",
    "class Perceptron(nn.Module):\n",
    "    def __init__(self, input_size):\n",
    "        super(Perceptron, self).__init__()\n",
    "        self.fc = nn.Linear(input_size, 1)  # Fully connected layer\n",
    "\n",
    "    def forward(self, x):\n",
    "        out = torch.sigmoid(self.fc(x))  # Sigmoid activation for binary classification\n",
    "        return out"
   ]
  },
  {
   "cell_type": "code",
   "execution_count": 6,
   "id": "c8b5f5e9",
   "metadata": {},
   "outputs": [
    {
     "name": "stdout",
     "output_type": "stream",
     "text": [
      "cpu\n"
     ]
    },
    {
     "data": {
      "text/plain": [
       "Perceptron(\n",
       "  (fc): Linear(in_features=8, out_features=1, bias=True)\n",
       ")"
      ]
     },
     "execution_count": 6,
     "metadata": {},
     "output_type": "execute_result"
    }
   ],
   "source": [
    "device = torch.device(\"cuda:0\" if torch.cuda.is_available() else \"cpu\")\n",
    "# device = torch.device(\"cpu\")\n",
    "print(device)\n",
    "\n",
    "# Create your model and move it to the selected device\n",
    "model = Perceptron(input_size=8)\n",
    "model.to(device)"
   ]
  },
  {
   "cell_type": "code",
   "execution_count": 7,
   "id": "c24c13ea",
   "metadata": {},
   "outputs": [],
   "source": [
    "import torch.optim as optim\n",
    "\n",
    "# Define loss function and optimizer\n",
    "criterion = nn.BCELoss()  # Binary Cross-Entropy Loss\n",
    "learning_rate = 0.001\n",
    "model = Perceptron(input_size = 8)\n",
    "optimizer = optim.SGD(model.parameters(), lr=learning_rate)\n",
    "\n",
    "for inputs, labels in trainloader:\n",
    "    inputs, labels = inputs.to(device), labels.to(device)"
   ]
  },
  {
   "cell_type": "code",
   "execution_count": 8,
   "id": "3d66421c",
   "metadata": {},
   "outputs": [
    {
     "name": "stdout",
     "output_type": "stream",
     "text": [
      "Epoch [1/100], Loss: 0.7401\n",
      "Epoch [2/100], Loss: 0.7333\n",
      "Epoch [3/100], Loss: 0.7389\n",
      "Epoch [4/100], Loss: 0.7353\n",
      "Epoch [5/100], Loss: 0.7325\n",
      "Epoch [6/100], Loss: 0.7338\n",
      "Epoch [7/100], Loss: 0.7304\n",
      "Epoch [8/100], Loss: 0.7295\n",
      "Epoch [9/100], Loss: 0.7275\n",
      "Epoch [10/100], Loss: 0.7305\n",
      "Epoch [11/100], Loss: 0.7181\n",
      "Epoch [12/100], Loss: 0.7225\n",
      "Epoch [13/100], Loss: 0.7215\n",
      "Epoch [14/100], Loss: 0.7211\n",
      "Epoch [15/100], Loss: 0.7214\n",
      "Epoch [16/100], Loss: 0.7185\n",
      "Epoch [17/100], Loss: 0.7146\n",
      "Epoch [18/100], Loss: 0.7141\n",
      "Epoch [19/100], Loss: 0.7145\n",
      "Epoch [20/100], Loss: 0.7093\n",
      "Epoch [21/100], Loss: 0.7087\n",
      "Epoch [22/100], Loss: 0.7076\n",
      "Epoch [23/100], Loss: 0.7062\n",
      "Epoch [24/100], Loss: 0.7036\n",
      "Epoch [25/100], Loss: 0.7033\n",
      "Epoch [26/100], Loss: 0.7018\n",
      "Epoch [27/100], Loss: 0.7022\n",
      "Epoch [28/100], Loss: 0.6997\n",
      "Epoch [29/100], Loss: 0.7007\n",
      "Epoch [30/100], Loss: 0.6972\n",
      "Epoch [31/100], Loss: 0.6990\n",
      "Epoch [32/100], Loss: 0.6906\n",
      "Epoch [33/100], Loss: 0.6942\n",
      "Epoch [34/100], Loss: 0.6946\n",
      "Epoch [35/100], Loss: 0.6928\n",
      "Epoch [36/100], Loss: 0.6939\n",
      "Epoch [37/100], Loss: 0.6865\n",
      "Epoch [38/100], Loss: 0.6889\n",
      "Epoch [39/100], Loss: 0.6861\n",
      "Epoch [40/100], Loss: 0.6855\n",
      "Epoch [41/100], Loss: 0.6864\n",
      "Epoch [42/100], Loss: 0.6849\n",
      "Epoch [43/100], Loss: 0.6834\n",
      "Epoch [44/100], Loss: 0.6826\n",
      "Epoch [45/100], Loss: 0.6797\n",
      "Epoch [46/100], Loss: 0.6769\n",
      "Epoch [47/100], Loss: 0.6808\n",
      "Epoch [48/100], Loss: 0.6793\n",
      "Epoch [49/100], Loss: 0.6766\n",
      "Epoch [50/100], Loss: 0.6767\n",
      "Epoch [51/100], Loss: 0.6776\n",
      "Epoch [52/100], Loss: 0.6699\n",
      "Epoch [53/100], Loss: 0.6702\n",
      "Epoch [54/100], Loss: 0.6709\n",
      "Epoch [55/100], Loss: 0.6714\n",
      "Epoch [56/100], Loss: 0.6732\n",
      "Epoch [57/100], Loss: 0.6697\n",
      "Epoch [58/100], Loss: 0.6680\n",
      "Epoch [59/100], Loss: 0.6685\n",
      "Epoch [60/100], Loss: 0.6660\n",
      "Epoch [61/100], Loss: 0.6616\n",
      "Epoch [62/100], Loss: 0.6658\n",
      "Epoch [63/100], Loss: 0.6630\n",
      "Epoch [64/100], Loss: 0.6650\n",
      "Epoch [65/100], Loss: 0.6652\n",
      "Epoch [66/100], Loss: 0.6613\n",
      "Epoch [67/100], Loss: 0.6593\n",
      "Epoch [68/100], Loss: 0.6589\n",
      "Epoch [69/100], Loss: 0.6580\n",
      "Epoch [70/100], Loss: 0.6586\n",
      "Epoch [71/100], Loss: 0.6563\n",
      "Epoch [72/100], Loss: 0.6538\n",
      "Epoch [73/100], Loss: 0.6540\n",
      "Epoch [74/100], Loss: 0.6509\n",
      "Epoch [75/100], Loss: 0.6554\n",
      "Epoch [76/100], Loss: 0.6557\n",
      "Epoch [77/100], Loss: 0.6517\n",
      "Epoch [78/100], Loss: 0.6491\n",
      "Epoch [79/100], Loss: 0.6482\n",
      "Epoch [80/100], Loss: 0.6500\n",
      "Epoch [81/100], Loss: 0.6488\n",
      "Epoch [82/100], Loss: 0.6462\n",
      "Epoch [83/100], Loss: 0.6408\n",
      "Epoch [84/100], Loss: 0.6448\n",
      "Epoch [85/100], Loss: 0.6429\n",
      "Epoch [86/100], Loss: 0.6489\n",
      "Epoch [87/100], Loss: 0.6411\n",
      "Epoch [88/100], Loss: 0.6449\n",
      "Epoch [89/100], Loss: 0.6470\n",
      "Epoch [90/100], Loss: 0.6397\n",
      "Epoch [91/100], Loss: 0.6436\n",
      "Epoch [92/100], Loss: 0.6432\n",
      "Epoch [93/100], Loss: 0.6450\n",
      "Epoch [94/100], Loss: 0.6429\n",
      "Epoch [95/100], Loss: 0.6372\n",
      "Epoch [96/100], Loss: 0.6309\n",
      "Epoch [97/100], Loss: 0.6373\n",
      "Epoch [98/100], Loss: 0.6315\n",
      "Epoch [99/100], Loss: 0.6340\n",
      "Epoch [100/100], Loss: 0.6392\n",
      "Finished Training\n"
     ]
    }
   ],
   "source": [
    "# Assuming you have already created the train_loader\n",
    "num_epochs = 100\n",
    "\n",
    "for epoch in range(num_epochs):\n",
    "    total_loss = 0.0\n",
    "    for i, data in enumerate(trainloader, 0):\n",
    "        # get the inputs; data is a list of [inputs, labels]\n",
    "        inputs, labels = data\n",
    "        inputs, labels = inputs.to(device), labels.to(device)\n",
    "        optimizer.zero_grad()\n",
    "        outputs = model(inputs)\n",
    "        loss = criterion(outputs, labels.unsqueeze(1))  # Labels should have shape (batch_size, 1)\n",
    "        loss.backward()\n",
    "        optimizer.step()\n",
    "        total_loss += loss.item()\n",
    "\n",
    "    # Print the average loss for this epoch\n",
    "    avg_loss = total_loss / len(trainloader)\n",
    "    print(f\"Epoch [{epoch+1}/{num_epochs}], Loss: {avg_loss:.4f}\")\n",
    "\n",
    "print('Finished Training')"
   ]
  },
  {
   "cell_type": "code",
   "execution_count": 9,
   "id": "98743704",
   "metadata": {},
   "outputs": [
    {
     "name": "stdout",
     "output_type": "stream",
     "text": [
      "Accuracy: 3880 %\n"
     ]
    }
   ],
   "source": [
    "\n",
    "model = Perceptron(input_size = 8)  \n",
    "\n",
    "model.eval()\n",
    "\n",
    "correct = 0\n",
    "total = 0\n",
    "\n",
    "with torch.no_grad():\n",
    "    for inputs, labels in testloader:\n",
    "        outputs = model(inputs)  \n",
    "        predicted_labels = torch.sign(outputs)\n",
    "        \n",
    "        total += labels.size(0)\n",
    "        correct += (predicted_labels == labels).sum().item()\n",
    "\n",
    "print('Accuracy: %d %%' % (\n",
    "    100 * correct / total))"
   ]
  },
  {
   "cell_type": "code",
   "execution_count": null,
   "id": "255a1dce",
   "metadata": {},
   "outputs": [],
   "source": []
  },
  {
   "cell_type": "code",
   "execution_count": null,
   "id": "e989fc28",
   "metadata": {},
   "outputs": [],
   "source": []
  },
  {
   "cell_type": "code",
   "execution_count": null,
   "id": "2338dba7",
   "metadata": {},
   "outputs": [],
   "source": []
  }
 ],
 "metadata": {
  "kernelspec": {
   "display_name": "Python 3 (ipykernel)",
   "language": "python",
   "name": "python3"
  },
  "language_info": {
   "codemirror_mode": {
    "name": "ipython",
    "version": 3
   },
   "file_extension": ".py",
   "mimetype": "text/x-python",
   "name": "python",
   "nbconvert_exporter": "python",
   "pygments_lexer": "ipython3",
   "version": "3.11.0"
  }
 },
 "nbformat": 4,
 "nbformat_minor": 5
}
